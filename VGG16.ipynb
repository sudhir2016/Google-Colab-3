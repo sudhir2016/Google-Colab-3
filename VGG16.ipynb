{
  "nbformat": 4,
  "nbformat_minor": 0,
  "metadata": {
    "colab": {
      "name": "VGG16.ipynb",
      "provenance": [],
      "collapsed_sections": [],
      "include_colab_link": true
    },
    "kernelspec": {
      "name": "python3",
      "display_name": "Python 3"
    }
  },
  "cells": [
    {
      "cell_type": "markdown",
      "metadata": {
        "id": "view-in-github",
        "colab_type": "text"
      },
      "source": [
        "<a href=\"https://colab.research.google.com/github/sudhir2016/Google-Colab-3/blob/master/VGG16.ipynb\" target=\"_parent\"><img src=\"https://colab.research.google.com/assets/colab-badge.svg\" alt=\"Open In Colab\"/></a>"
      ]
    },
    {
      "cell_type": "markdown",
      "metadata": {
        "id": "JdWyEKTLopPT",
        "colab_type": "text"
      },
      "source": [
        "This is a very simple example of using VGG16 in TensorFlow and Keras to classify a image."
      ]
    },
    {
      "cell_type": "markdown",
      "metadata": {
        "id": "vxBidPIGs15N",
        "colab_type": "text"
      },
      "source": [
        "Load TensorFlow, Keras, VGG16 and Python libraries."
      ]
    },
    {
      "cell_type": "code",
      "metadata": {
        "id": "6cjlILGdoTII",
        "colab_type": "code",
        "colab": {}
      },
      "source": [
        "# %tensorflow_version 2.x\n",
        "import tensorflow as tf\n",
        "from tensorflow import keras\n",
        "from keras.preprocessing.image import load_img\n",
        "from keras.preprocessing.image import img_to_array\n",
        "from keras.applications.vgg16 import preprocess_input\n",
        "from keras.applications.vgg16 import decode_predictions\n",
        "from keras.applications.vgg16 import VGG16\n",
        "import numpy as np\n",
        "import matplotlib.pyplot as plt\n",
        "print(tf.__version__)\n",
        "print(keras.__version__)"
      ],
      "execution_count": 0,
      "outputs": []
    },
    {
      "cell_type": "markdown",
      "metadata": {
        "id": "hzAe6sGXxjrb",
        "colab_type": "text"
      },
      "source": [
        "Set the model to VGG16 and print model summary."
      ]
    },
    {
      "cell_type": "code",
      "metadata": {
        "id": "TJGDSOkm3vV8",
        "colab_type": "code",
        "colab": {}
      },
      "source": [
        "model = VGG16()"
      ],
      "execution_count": 0,
      "outputs": []
    },
    {
      "cell_type": "code",
      "metadata": {
        "id": "vYnqnVD7KigM",
        "colab_type": "code",
        "colab": {}
      },
      "source": [
        "print(model.summary())"
      ],
      "execution_count": 0,
      "outputs": []
    },
    {
      "cell_type": "markdown",
      "metadata": {
        "id": "IWNcH8ub7591",
        "colab_type": "text"
      },
      "source": [
        "Load an image from the net."
      ]
    },
    {
      "cell_type": "code",
      "metadata": {
        "id": "PPvArYf6u-Eb",
        "colab_type": "code",
        "colab": {}
      },
      "source": [
        "image=tf.keras.utils.get_file(origin='https://images.unsplash.com/photo-1532974297617-c0f05fe48bff?ixlib=rb-1.2.1&ixid=eyJhcHBfaWQiOjEyMDd9&auto=format&fit=crop&w=700&q=80',fname='car.jpg')"
      ],
      "execution_count": 0,
      "outputs": []
    },
    {
      "cell_type": "markdown",
      "metadata": {
        "id": "pfXC8vJGzKfL",
        "colab_type": "text"
      },
      "source": [
        "Resize image."
      ]
    },
    {
      "cell_type": "code",
      "metadata": {
        "id": "H1sovxqxgenV",
        "colab_type": "code",
        "colab": {}
      },
      "source": [
        "image = load_img(image, target_size=(224, 224))"
      ],
      "execution_count": 0,
      "outputs": []
    },
    {
      "cell_type": "markdown",
      "metadata": {
        "id": "LMjKFkHGzUMx",
        "colab_type": "text"
      },
      "source": [
        "Show image"
      ]
    },
    {
      "cell_type": "code",
      "metadata": {
        "id": "UG6YUbzS8it6",
        "colab_type": "code",
        "colab": {}
      },
      "source": [
        "plt.imshow(image)"
      ],
      "execution_count": 0,
      "outputs": []
    },
    {
      "cell_type": "markdown",
      "metadata": {
        "id": "Ngqw7_615fsm",
        "colab_type": "text"
      },
      "source": [
        "Convert image to Numpy array"
      ]
    },
    {
      "cell_type": "code",
      "metadata": {
        "id": "FZOBAefW60A8",
        "colab_type": "code",
        "colab": {}
      },
      "source": [
        "image = tf.keras.preprocessing.image.img_to_array(image)"
      ],
      "execution_count": 0,
      "outputs": []
    },
    {
      "cell_type": "markdown",
      "metadata": {
        "id": "lDpRqTGR5u1v",
        "colab_type": "text"
      },
      "source": [
        "Reshape data for the model."
      ]
    },
    {
      "cell_type": "code",
      "metadata": {
        "id": "bLk4n7fB8SMw",
        "colab_type": "code",
        "colab": {}
      },
      "source": [
        "image = image.reshape((1, image.shape[0], image.shape[1], image.shape[2]))"
      ],
      "execution_count": 0,
      "outputs": []
    },
    {
      "cell_type": "markdown",
      "metadata": {
        "id": "nHe4HbMf6K_W",
        "colab_type": "text"
      },
      "source": [
        "Preprocess data for the VGG model."
      ]
    },
    {
      "cell_type": "code",
      "metadata": {
        "id": "feU5PZsu6bGY",
        "colab_type": "code",
        "colab": {}
      },
      "source": [
        "image = preprocess_input(image)"
      ],
      "execution_count": 0,
      "outputs": []
    },
    {
      "cell_type": "markdown",
      "metadata": {
        "id": "yREzqm2O6shL",
        "colab_type": "text"
      },
      "source": [
        "Predict the probability across all output classes."
      ]
    },
    {
      "cell_type": "code",
      "metadata": {
        "id": "T0FYsYub64cs",
        "colab_type": "code",
        "colab": {}
      },
      "source": [
        "p = model.predict(image)"
      ],
      "execution_count": 0,
      "outputs": []
    },
    {
      "cell_type": "markdown",
      "metadata": {
        "id": "U2jIbZA86-Wk",
        "colab_type": "text"
      },
      "source": [
        "Convert the probabilities to class labels."
      ]
    },
    {
      "cell_type": "code",
      "metadata": {
        "id": "ro7GI2rM7I4x",
        "colab_type": "code",
        "colab": {}
      },
      "source": [
        "label = decode_predictions(p)"
      ],
      "execution_count": 0,
      "outputs": []
    },
    {
      "cell_type": "markdown",
      "metadata": {
        "id": "MP4C-eZ67eVn",
        "colab_type": "text"
      },
      "source": [
        "Print the label."
      ]
    },
    {
      "cell_type": "code",
      "metadata": {
        "id": "uj4q_Ckz7h3a",
        "colab_type": "code",
        "colab": {}
      },
      "source": [
        "print(label)"
      ],
      "execution_count": 0,
      "outputs": []
    }
  ]
}